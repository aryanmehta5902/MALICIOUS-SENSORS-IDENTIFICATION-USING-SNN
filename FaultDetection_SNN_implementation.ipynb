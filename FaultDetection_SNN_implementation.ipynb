{
  "nbformat": 4,
  "nbformat_minor": 0,
  "metadata": {
    "colab": {
      "provenance": []
    },
    "kernelspec": {
      "name": "python3",
      "display_name": "Python 3"
    },
    "language_info": {
      "name": "python"
    }
  },
  "cells": [
    {
      "cell_type": "markdown",
      "source": [
        "# SNN Implementation\n",
        "## By Aryan Mehta (20BCE018)\n"
      ],
      "metadata": {
        "id": "8w6lhn7H8fW5"
      }
    },
    {
      "cell_type": "code",
      "execution_count": 97,
      "metadata": {
        "id": "1BlTqunB73-t"
      },
      "outputs": [],
      "source": [
        "!pip install snntorch --quiet"
      ]
    },
    {
      "cell_type": "code",
      "source": [
        "#@title Plotting Settings\n",
        "def plot_cur_mem_spk(cur, mem, spk, thr_line=False, vline=False, title=False, ylim_max1=1.25, ylim_max2=1.25):\n",
        "  # Generate Plots\n",
        "  fig, ax = plt.subplots(3, figsize=(8,6), sharex=True,\n",
        "                        gridspec_kw = {'height_ratios': [1, 1, 0.4]})\n",
        "\n",
        "  # Plot input current\n",
        "  ax[0].plot(cur, c=\"tab:orange\")\n",
        "  ax[0].set_ylim([0, ylim_max1])\n",
        "  ax[0].set_xlim([0, 200])\n",
        "  ax[0].set_ylabel(\"Input Current ($I_{in}$)\")\n",
        "  if title:\n",
        "    ax[0].set_title(title)\n",
        "\n",
        "  # Plot membrane potential\n",
        "  ax[1].plot(mem)\n",
        "  ax[1].set_ylim([0, ylim_max2])\n",
        "  ax[1].set_ylabel(\"Membrane Potential ($U_{mem}$)\")\n",
        "  if thr_line:\n",
        "    ax[1].axhline(y=thr_line, alpha=0.25, linestyle=\"dashed\", c=\"black\", linewidth=2)\n",
        "  plt.xlabel(\"Time step\")\n",
        "\n",
        "  # Plot output spike using spikeplot\n",
        "  splt.raster(spk, ax[2], s=400, c=\"black\", marker=\"|\")\n",
        "  if vline:\n",
        "    ax[2].axvline(x=vline, ymin=0, ymax=6.75, alpha = 0.15, linestyle=\"dashed\", c=\"black\", linewidth=2, zorder=0, clip_on=False)\n",
        "  plt.ylabel(\"Output spikes\")\n",
        "  plt.yticks([])\n",
        "\n",
        "  plt.show()\n",
        "\n",
        "def plot_snn_spikes(spk_in, spk1_rec, spk2_rec, title):\n",
        "  # Generate Plots\n",
        "  fig, ax = plt.subplots(3, figsize=(8,7), sharex=True,\n",
        "                        gridspec_kw = {'height_ratios': [1, 1, 0.4]})\n",
        "\n",
        "  # Plot input spikes\n",
        "  splt.raster(spk_in[:,0], ax[0], s=0.03, c=\"black\")\n",
        "  ax[0].set_ylabel(\"Input Spikes\")\n",
        "  ax[0].set_title(title)\n",
        "\n",
        "  # Plot hidden layer spikes\n",
        "  splt.raster(spk1_rec.reshape(num_steps, -1), ax[1], s = 0.05, c=\"black\")\n",
        "  ax[1].set_ylabel(\"Hidden Layer\")\n",
        "\n",
        "  # Plot output spikes\n",
        "  splt.raster(spk2_rec.reshape(num_steps, -1), ax[2], c=\"black\", marker=\"|\")\n",
        "  ax[2].set_ylabel(\"Output Spikes\")\n",
        "  ax[2].set_ylim([0, 10])\n",
        "\n",
        "  plt.show()\n",
        "\n",
        "def dvs_animator(spike_data):\n",
        "  fig, ax = plt.subplots()\n",
        "  anim = splt.animator((spike_data[:,0] + spike_data[:,1]), fig, ax)\n",
        "  return anim\n"
      ],
      "metadata": {
        "id": "PhO1wRCqFPlr"
      },
      "execution_count": 79,
      "outputs": []
    },
    {
      "cell_type": "code",
      "source": [
        "# imports\n",
        "import snntorch as snn\n",
        "from snntorch import spikeplot as splt\n",
        "import torch\n",
        "\n",
        "# plotting\n",
        "import matplotlib.pyplot as plt\n",
        "from IPython.display import HTML"
      ],
      "metadata": {
        "id": "H_TzogsCCcSe"
      },
      "execution_count": 80,
      "outputs": []
    },
    {
      "cell_type": "code",
      "source": [
        "lif = snn.Leaky(beta=0.8) # LIF neuron with a decay rate of 0.8"
      ],
      "metadata": {
        "id": "Ao9LfqkeEw-5"
      },
      "execution_count": 98,
      "outputs": []
    },
    {
      "cell_type": "code",
      "source": [
        "# setup inputs\n",
        "num_steps = 200 # number of time-steps to simulate\n",
        "\n",
        "w = 0.8 # then run 0.15, 0.20, 0.21\n",
        "# First run spike input\n",
        "x = torch.cat((torch.zeros(10), torch.ones(1)*w, torch.zeros(189)))\n",
        "\n",
        "\n",
        "# Small step current input\n",
        "# w = 0.15, # then run 0.20, 0.21\n",
        "# x = torch.cat((torch.zeros(10), torch.ones(190)*w), 0)\n",
        "mem = torch.zeros(1)\n",
        "spk = torch.zeros(1)"
      ],
      "metadata": {
        "id": "bixHpBamE1AS"
      },
      "execution_count": 82,
      "outputs": []
    },
    {
      "cell_type": "code",
      "source": [
        "mem_rec = []\n",
        "spk_rec = []\n",
        "\n",
        "# neuron simulation\n",
        "for step in range(num_steps):\n",
        "  spk, mem = lif(x[step], mem)\n",
        "  mem_rec.append(mem)\n",
        "  spk_rec.append(spk)\n",
        "\n",
        "# convert lists to tensors\n",
        "mem_rec = torch.stack(mem_rec)\n",
        "spk_rec = torch.stack(spk_rec)\n",
        "\n",
        "plot_cur_mem_spk(x, mem_rec, spk_rec, thr_line=1, ylim_max1=1.0,\n",
        "                 title=\"snn.Leaky Neuron Model\")"
      ],
      "metadata": {
        "id": "5wTggA5XFJuI",
        "colab": {
          "base_uri": "https://localhost:8080/",
          "height": 564
        },
        "outputId": "4f12f3b0-b945-4dba-e2d2-d4a542f0296e"
      },
      "execution_count": 83,
      "outputs": [
        {
          "output_type": "display_data",
          "data": {
            "text/plain": [
              "<Figure size 800x600 with 3 Axes>"
            ],
            "image/png": "[encoded data removed]"
          },
          "metadata": {}
        }
      ]
    },
    {
      "cell_type": "code",
      "source": [
        "# import\n",
        "import torch.nn as nn\n",
        "from torch.utils.data import DataLoader\n",
        "from torchvision import datasets, transforms\n",
        "import numpy as np\n",
        "import itertools"
      ],
      "metadata": {
        "id": "Z0DGl4FtChWO"
      },
      "execution_count": 84,
      "outputs": []
    },
    {
      "cell_type": "code",
      "source": [
        "# dataloader arguments\n",
        "batch_size = 128\n",
        "data_path='/data/mnist'\n",
        "\n",
        "dtype = torch.float\n",
        "device = torch.device(\"cuda\") if torch.cuda.is_available() else torch.device(\"cpu\")\n",
        "## if you're on M1 or M2 GPU:\n",
        "# device = torch.device(\"mps\")"
      ],
      "metadata": {
        "id": "SsM2Z5NXGu5z"
      },
      "execution_count": 85,
      "outputs": []
    },
    {
      "cell_type": "code",
      "source": [
        "import pandas as pd\n",
        "df=pd.read_csv(\"/content/resampled_dataset.csv\")"
      ],
      "metadata": {
        "id": "jUxJuwyL2QoU"
      },
      "execution_count": 99,
      "outputs": []
    },
    {
      "cell_type": "code",
      "source": [
        "\n",
        "df.drop(['Node_ID','Timestamp','IP_Address'], axis=1,inplace=True)\n",
        "df"
      ],
      "metadata": {
        "colab": {
          "base_uri": "https://localhost:8080/",
          "height": 443
        },
        "id": "U4USJ29I5QNC",
        "outputId": "5351c08f-4194-4aad-c16d-a26676bc60c1"
      },
      "execution_count": 100,
      "outputs": [
        {
          "output_type": "execute_result",
          "data": {
            "text/plain": [
              "       Packet_Rate  Packet_Drop_Rate  Packet_Duplication_Rate  \\\n",
              "0        43.354826          1.793314                 0.769017   \n",
              "1        50.424976          2.260854                 0.937936   \n",
              "2        46.428791          1.471781                 0.781682   \n",
              "3        51.067513          1.384181                 1.438859   \n",
              "4        52.115473          2.075577                 1.126520   \n",
              "...            ...               ...                      ...   \n",
              "14263    55.276199          2.787557                 0.934684   \n",
              "14264    55.276199          2.787557                 0.934684   \n",
              "14265   113.825524          1.975563                 0.886370   \n",
              "14266    89.374541          4.814556                 1.117471   \n",
              "14267    59.926037          3.254748                 1.008872   \n",
              "\n",
              "       Data_Throughput  Signal_Strength        SNR  Battery_Level  \\\n",
              "0           102.475187       -51.956973  22.138247     100.590005   \n",
              "1            73.107409       -54.428835  27.228791      85.219354   \n",
              "2           135.236742       -52.132566  17.398257      63.941000   \n",
              "3           104.536678       -40.616531  15.721254      77.999125   \n",
              "4           114.661321       -48.377337  25.703275      55.602428   \n",
              "...                ...              ...        ...            ...   \n",
              "14263        38.362757       -37.112532  13.687636      69.903849   \n",
              "14264        38.362757       -37.112532  13.687636      69.903849   \n",
              "14265        62.056350       -36.487645  10.722136      55.023471   \n",
              "14266        33.992990       -41.181198  19.880221      65.091574   \n",
              "14267        32.797220       -43.885672  16.548826      40.125454   \n",
              "\n",
              "       Energy_Consumption_Rate  Number_of_Neighbors  Route_Request_Frequency  \\\n",
              "0                     4.564164                    4                 8.782660   \n",
              "1                     3.171772                    7                 9.189567   \n",
              "2                     6.169996                    8                 9.225129   \n",
              "3                     3.739826                    5                10.747214   \n",
              "4                     5.000826                    4                 7.461444   \n",
              "...                        ...                  ...                      ...   \n",
              "14263                11.043002                    2                16.390677   \n",
              "14264                11.043002                    2                16.390677   \n",
              "14265                11.594558                    6                11.004521   \n",
              "14266                10.954954                    6                14.345728   \n",
              "14267                10.404987                    2                11.866941   \n",
              "\n",
              "       Route_Reply_Frequency  Data_Transmission_Frequency  \\\n",
              "0                   5.198217                    18.030080   \n",
              "1                   8.178341                    14.910599   \n",
              "2                  10.643191                    12.670805   \n",
              "3                  10.774255                    14.797984   \n",
              "4                   8.501757                    13.459489   \n",
              "...                      ...                          ...   \n",
              "14263              18.765169                    23.431158   \n",
              "14264              18.765169                    23.431158   \n",
              "14265              15.827568                    20.675146   \n",
              "14266              12.271464                    23.462420   \n",
              "14267              13.547303                    21.353700   \n",
              "\n",
              "       Data_Reception_Frequency  Error_Rate  CPU_Usage  Memory_Usage  \\\n",
              "0                     11.166828    0.102339  49.768780     28.702876   \n",
              "1                     15.063865    0.113781  51.223214     24.476745   \n",
              "2                     16.675159    0.111805  39.546487     30.593333   \n",
              "3                     19.334244    0.101249  41.455883     33.279822   \n",
              "4                     14.455538    0.059275  18.144486     29.858013   \n",
              "...                         ...         ...        ...           ...   \n",
              "14263                 25.901908    0.180820  52.213197     43.052908   \n",
              "14264                 25.901908    0.180820  52.213197     43.052908   \n",
              "14265                 16.089891    0.250556  58.404848     34.227697   \n",
              "14266                 18.875817    0.223306  53.961389     45.886451   \n",
              "14267                 20.658075    0.211257  49.313616     35.389712   \n",
              "\n",
              "       Bandwidth  Is_Malicious  \n",
              "0      81.062645             0  \n",
              "1      79.475488             0  \n",
              "2      81.404470             0  \n",
              "3      80.681986             0  \n",
              "4      90.707117             0  \n",
              "...          ...           ...  \n",
              "14263  46.084743             1  \n",
              "14264  46.084743             1  \n",
              "14265  60.075611             1  \n",
              "14266  88.966717             1  \n",
              "14267  70.227626             1  \n",
              "\n",
              "[14268 rows x 18 columns]"
            ],
            "text/html": [
              "\n",
              "  <div id=\"df-36994ff7-bb32-4853-b466-66a7510735ee\" class=\"colab-df-container\">\n",
              "    <div>\n",
              "<style scoped>\n",
              "    .dataframe tbody tr th:only-of-type {\n",
              "        vertical-align: middle;\n",
              "    }\n",
              "\n",
              "    .dataframe tbody tr th {\n",
              "        vertical-align: top;\n",
              "    }\n",
              "\n",
              "    .dataframe thead th {\n",
              "        text-align: right;\n",
              "    }\n",
              "</style>\n",
              "<table border=\"1\" class=\"dataframe\">\n",
              "  <thead>\n",
              "    <tr style=\"text-align: right;\">\n",
              "      <th></th>\n",
              "      <th>Packet_Rate</th>\n",
              "      <th>Packet_Drop_Rate</th>\n",
              "      <th>Packet_Duplication_Rate</th>\n",
              "      <th>Data_Throughput</th>\n",
              "      <th>Signal_Strength</th>\n",
              "      <th>SNR</th>\n",
              "      <th>Battery_Level</th>\n",
              "      <th>Energy_Consumption_Rate</th>\n",
              "      <th>Number_of_Neighbors</th>\n",
              "      <th>Route_Request_Frequency</th>\n",
              "      <th>Route_Reply_Frequency</th>\n",
              "      <th>Data_Transmission_Frequency</th>\n",
              "      <th>Data_Reception_Frequency</th>\n",
              "      <th>Error_Rate</th>\n",
              "      <th>CPU_Usage</th>\n",
              "      <th>Memory_Usage</th>\n",
              "      <th>Bandwidth</th>\n",
              "      <th>Is_Malicious</th>\n",
              "    </tr>\n",
              "  </thead>\n",
              "  <tbody>\n",
              "    <tr>\n",
              "      <th>0</th>\n",
              "      <td>43.354826</td>\n",
              "      <td>1.793314</td>\n",
              "      <td>0.769017</td>\n",
              "      <td>102.475187</td>\n",
              "      <td>-51.956973</td>\n",
              "      <td>22.138247</td>\n",
              "      <td>100.590005</td>\n",
              "      <td>4.564164</td>\n",
              "      <td>4</td>\n",
              "      <td>8.782660</td>\n",
              "      <td>5.198217</td>\n",
              "      <td>18.030080</td>\n",
              "      <td>11.166828</td>\n",
              "      <td>0.102339</td>\n",
              "      <td>49.768780</td>\n",
              "      <td>28.702876</td>\n",
              "      <td>81.062645</td>\n",
              "      <td>0</td>\n",
              "    </tr>\n",
              "    <tr>\n",
              "      <th>1</th>\n",
              "      <td>50.424976</td>\n",
              "      <td>2.260854</td>\n",
              "      <td>0.937936</td>\n",
              "      <td>73.107409</td>\n",
              "      <td>-54.428835</td>\n",
              "      <td>27.228791</td>\n",
              "      <td>85.219354</td>\n",
              "      <td>3.171772</td>\n",
              "      <td>7</td>\n",
              "      <td>9.189567</td>\n",
              "      <td>8.178341</td>\n",
              "      <td>14.910599</td>\n",
              "      <td>15.063865</td>\n",
              "      <td>0.113781</td>\n",
              "      <td>51.223214</td>\n",
              "      <td>24.476745</td>\n",
              "      <td>79.475488</td>\n",
              "      <td>0</td>\n",
              "    </tr>\n",
              "    <tr>\n",
              "      <th>2</th>\n",
              "      <td>46.428791</td>\n",
              "      <td>1.471781</td>\n",
              "      <td>0.781682</td>\n",
              "      <td>135.236742</td>\n",
              "      <td>-52.132566</td>\n",
              "      <td>17.398257</td>\n",
              "      <td>63.941000</td>\n",
              "      <td>6.169996</td>\n",
              "      <td>8</td>\n",
              "      <td>9.225129</td>\n",
              "      <td>10.643191</td>\n",
              "      <td>12.670805</td>\n",
              "      <td>16.675159</td>\n",
              "      <td>0.111805</td>\n",
              "      <td>39.546487</td>\n",
              "      <td>30.593333</td>\n",
              "      <td>81.404470</td>\n",
              "      <td>0</td>\n",
              "    </tr>\n",
              "    <tr>\n",
              "      <th>3</th>\n",
              "      <td>51.067513</td>\n",
              "      <td>1.384181</td>\n",
              "      <td>1.438859</td>\n",
              "      <td>104.536678</td>\n",
              "      <td>-40.616531</td>\n",
              "      <td>15.721254</td>\n",
              "      <td>77.999125</td>\n",
              "      <td>3.739826</td>\n",
              "      <td>5</td>\n",
              "      <td>10.747214</td>\n",
              "      <td>10.774255</td>\n",
              "      <td>14.797984</td>\n",
              "      <td>19.334244</td>\n",
              "      <td>0.101249</td>\n",
              "      <td>41.455883</td>\n",
              "      <td>33.279822</td>\n",
              "      <td>80.681986</td>\n",
              "      <td>0</td>\n",
              "    </tr>\n",
              "    <tr>\n",
              "      <th>4</th>\n",
              "      <td>52.115473</td>\n",
              "      <td>2.075577</td>\n",
              "      <td>1.126520</td>\n",
              "      <td>114.661321</td>\n",
              "      <td>-48.377337</td>\n",
              "      <td>25.703275</td>\n",
              "      <td>55.602428</td>\n",
              "      <td>5.000826</td>\n",
              "      <td>4</td>\n",
              "      <td>7.461444</td>\n",
              "      <td>8.501757</td>\n",
              "      <td>13.459489</td>\n",
              "      <td>14.455538</td>\n",
              "      <td>0.059275</td>\n",
              "      <td>18.144486</td>\n",
              "      <td>29.858013</td>\n",
              "      <td>90.707117</td>\n",
              "      <td>0</td>\n",
              "    </tr>\n",
              "    <tr>\n",
              "      <th>...</th>\n",
              "      <td>...</td>\n",
              "      <td>...</td>\n",
              "      <td>...</td>\n",
              "      <td>...</td>\n",
              "      <td>...</td>\n",
              "      <td>...</td>\n",
              "      <td>...</td>\n",
              "      <td>...</td>\n",
              "      <td>...</td>\n",
              "      <td>...</td>\n",
              "      <td>...</td>\n",
              "      <td>...</td>\n",
              "      <td>...</td>\n",
              "      <td>...</td>\n",
              "      <td>...</td>\n",
              "      <td>...</td>\n",
              "      <td>...</td>\n",
              "      <td>...</td>\n",
              "    </tr>\n",
              "    <tr>\n",
              "      <th>14263</th>\n",
              "      <td>55.276199</td>\n",
              "      <td>2.787557</td>\n",
              "      <td>0.934684</td>\n",
              "      <td>38.362757</td>\n",
              "      <td>-37.112532</td>\n",
              "      <td>13.687636</td>\n",
              "      <td>69.903849</td>\n",
              "      <td>11.043002</td>\n",
              "      <td>2</td>\n",
              "      <td>16.390677</td>\n",
              "      <td>18.765169</td>\n",
              "      <td>23.431158</td>\n",
              "      <td>25.901908</td>\n",
              "      <td>0.180820</td>\n",
              "      <td>52.213197</td>\n",
              "      <td>43.052908</td>\n",
              "      <td>46.084743</td>\n",
              "      <td>1</td>\n",
              "    </tr>\n",
              "    <tr>\n",
              "      <th>14264</th>\n",
              "      <td>55.276199</td>\n",
              "      <td>2.787557</td>\n",
              "      <td>0.934684</td>\n",
              "      <td>38.362757</td>\n",
              "      <td>-37.112532</td>\n",
              "      <td>13.687636</td>\n",
              "      <td>69.903849</td>\n",
              "      <td>11.043002</td>\n",
              "      <td>2</td>\n",
              "      <td>16.390677</td>\n",
              "      <td>18.765169</td>\n",
              "      <td>23.431158</td>\n",
              "      <td>25.901908</td>\n",
              "      <td>0.180820</td>\n",
              "      <td>52.213197</td>\n",
              "      <td>43.052908</td>\n",
              "      <td>46.084743</td>\n",
              "      <td>1</td>\n",
              "    </tr>\n",
              "    <tr>\n",
              "      <th>14265</th>\n",
              "      <td>113.825524</td>\n",
              "      <td>1.975563</td>\n",
              "      <td>0.886370</td>\n",
              "      <td>62.056350</td>\n",
              "      <td>-36.487645</td>\n",
              "      <td>10.722136</td>\n",
              "      <td>55.023471</td>\n",
              "      <td>11.594558</td>\n",
              "      <td>6</td>\n",
              "      <td>11.004521</td>\n",
              "      <td>15.827568</td>\n",
              "      <td>20.675146</td>\n",
              "      <td>16.089891</td>\n",
              "      <td>0.250556</td>\n",
              "      <td>58.404848</td>\n",
              "      <td>34.227697</td>\n",
              "      <td>60.075611</td>\n",
              "      <td>1</td>\n",
              "    </tr>\n",
              "    <tr>\n",
              "      <th>14266</th>\n",
              "      <td>89.374541</td>\n",
              "      <td>4.814556</td>\n",
              "      <td>1.117471</td>\n",
              "      <td>33.992990</td>\n",
              "      <td>-41.181198</td>\n",
              "      <td>19.880221</td>\n",
              "      <td>65.091574</td>\n",
              "      <td>10.954954</td>\n",
              "      <td>6</td>\n",
              "      <td>14.345728</td>\n",
              "      <td>12.271464</td>\n",
              "      <td>23.462420</td>\n",
              "      <td>18.875817</td>\n",
              "      <td>0.223306</td>\n",
              "      <td>53.961389</td>\n",
              "      <td>45.886451</td>\n",
              "      <td>88.966717</td>\n",
              "      <td>1</td>\n",
              "    </tr>\n",
              "    <tr>\n",
              "      <th>14267</th>\n",
              "      <td>59.926037</td>\n",
              "      <td>3.254748</td>\n",
              "      <td>1.008872</td>\n",
              "      <td>32.797220</td>\n",
              "      <td>-43.885672</td>\n",
              "      <td>16.548826</td>\n",
              "      <td>40.125454</td>\n",
              "      <td>10.404987</td>\n",
              "      <td>2</td>\n",
              "      <td>11.866941</td>\n",
              "      <td>13.547303</td>\n",
              "      <td>21.353700</td>\n",
              "      <td>20.658075</td>\n",
              "      <td>0.211257</td>\n",
              "      <td>49.313616</td>\n",
              "      <td>35.389712</td>\n",
              "      <td>70.227626</td>\n",
              "      <td>1</td>\n",
              "    </tr>\n",
              "  </tbody>\n",
              "</table>\n",
              "<p>14268 rows × 18 columns</p>\n",
              "</div>\n",
              "    <div class=\"colab-df-buttons\">\n",
              "\n",
              "  <div class=\"colab-df-container\">\n",
              "    <button class=\"colab-df-convert\" onclick=\"convertToInteractive('df-36994ff7-bb32-4853-b466-66a7510735ee')\"\n",
              "            title=\"Convert this dataframe to an interactive table.\"\n",
              "            style=\"display:none;\">\n",
              "\n",
              "  <svg xmlns=\"http://www.w3.org/2000/svg\" height=\"24px\" viewBox=\"0 -960 960 960\">\n",
              "    <path d=\"M120-120v-720h720v720H120Zm60-500h600v-160H180v160Zm220 220h160v-160H400v160Zm0 220h160v-160H400v160ZM180-400h160v-160H180v160Zm440 0h160v-160H620v160ZM180-180h160v-160H180v160Zm440 0h160v-160H620v160Z\"/>\n",
              "  </svg>\n",
              "    </button>\n",
              "\n",
              "  <style>\n",
              "    .colab-df-container {\n",
              "      display:flex;\n",
              "      gap: 12px;\n",
              "    }\n",
              "\n",
              "    .colab-df-convert {\n",
              "      background-color: #E8F0FE;\n",
              "      border: none;\n",
              "      border-radius: 50%;\n",
              "      cursor: pointer;\n",
              "      display: none;\n",
              "      fill: #1967D2;\n",
              "      height: 32px;\n",
              "      padding: 0 0 0 0;\n",
              "      width: 32px;\n",
              "    }\n",
              "\n",
              "    .colab-df-convert:hover {\n",
              "      background-color: #E2EBFA;\n",
              "      box-shadow: 0px 1px 2px rgba(60, 64, 67, 0.3), 0px 1px 3px 1px rgba(60, 64, 67, 0.15);\n",
              "      fill: #174EA6;\n",
              "    }\n",
              "\n",
              "    .colab-df-buttons div {\n",
              "      margin-bottom: 4px;\n",
              "    }\n",
              "\n",
              "    [theme=dark] .colab-df-convert {\n",
              "      background-color: #3B4455;\n",
              "      fill: #D2E3FC;\n",
              "    }\n",
              "\n",
              "    [theme=dark] .colab-df-convert:hover {\n",
              "      background-color: #434B5C;\n",
              "      box-shadow: 0px 1px 3px 1px rgba(0, 0, 0, 0.15);\n",
              "      filter: drop-shadow(0px 1px 2px rgba(0, 0, 0, 0.3));\n",
              "      fill: #FFFFFF;\n",
              "    }\n",
              "  </style>\n",
              "\n",
              "    <script>\n",
              "      const buttonEl =\n",
              "        document.querySelector('#df-36994ff7-bb32-4853-b466-66a7510735ee button.colab-df-convert');\n",
              "      buttonEl.style.display =\n",
              "        google.colab.kernel.accessAllowed ? 'block' : 'none';\n",
              "\n",
              "      async function convertToInteractive(key) {\n",
              "        const element = document.querySelector('#df-36994ff7-bb32-4853-b466-66a7510735ee');\n",
              "        const dataTable =\n",
              "          await google.colab.kernel.invokeFunction('convertToInteractive',\n",
              "                                                    [key], {});\n",
              "        if (!dataTable) return;\n",
              "\n",
              "        const docLinkHtml = 'Like what you see? Visit the ' +\n",
              "          '<a target=\"_blank\" href=https://colab.research.google.com/notebooks/data_table.ipynb>data table notebook</a>'\n",
              "          + ' to learn more about interactive tables.';\n",
              "        element.innerHTML = '';\n",
              "        dataTable['output_type'] = 'display_data';\n",
              "        await google.colab.output.renderOutput(dataTable, element);\n",
              "        const docLink = document.createElement('div');\n",
              "        docLink.innerHTML = docLinkHtml;\n",
              "        element.appendChild(docLink);\n",
              "      }\n",
              "    </script>\n",
              "  </div>\n",
              "\n",
              "\n",
              "<div id=\"df-7d806f65-bf68-4500-a3b9-ce227290c58e\">\n",
              "  <button class=\"colab-df-quickchart\" onclick=\"quickchart('df-7d806f65-bf68-4500-a3b9-ce227290c58e')\"\n",
              "            title=\"Suggest charts\"\n",
              "            style=\"display:none;\">\n",
              "\n",
              "<svg xmlns=\"http://www.w3.org/2000/svg\" height=\"24px\"viewBox=\"0 0 24 24\"\n",
              "     width=\"24px\">\n",
              "    <g>\n",
              "        <path d=\"M19 3H5c-1.1 0-2 .9-2 2v14c0 1.1.9 2 2 2h14c1.1 0 2-.9 2-2V5c0-1.1-.9-2-2-2zM9 17H7v-7h2v7zm4 0h-2V7h2v10zm4 0h-2v-4h2v4z\"/>\n",
              "    </g>\n",
              "</svg>\n",
              "  </button>\n",
              "\n",
              "<style>\n",
              "  .colab-df-quickchart {\n",
              "      --bg-color: #E8F0FE;\n",
              "      --fill-color: #1967D2;\n",
              "      --hover-bg-color: #E2EBFA;\n",
              "      --hover-fill-color: #174EA6;\n",
              "      --disabled-fill-color: #AAA;\n",
              "      --disabled-bg-color: #DDD;\n",
              "  }\n",
              "\n",
              "  [theme=dark] .colab-df-quickchart {\n",
              "      --bg-color: #3B4455;\n",
              "      --fill-color: #D2E3FC;\n",
              "      --hover-bg-color: #434B5C;\n",
              "      --hover-fill-color: #FFFFFF;\n",
              "      --disabled-bg-color: #3B4455;\n",
              "      --disabled-fill-color: #666;\n",
              "  }\n",
              "\n",
              "  .colab-df-quickchart {\n",
              "    background-color: var(--bg-color);\n",
              "    border: none;\n",
              "    border-radius: 50%;\n",
              "    cursor: pointer;\n",
              "    display: none;\n",
              "    fill: var(--fill-color);\n",
              "    height: 32px;\n",
              "    padding: 0;\n",
              "    width: 32px;\n",
              "  }\n",
              "\n",
              "  .colab-df-quickchart:hover {\n",
              "    background-color: var(--hover-bg-color);\n",
              "    box-shadow: 0 1px 2px rgba(60, 64, 67, 0.3), 0 1px 3px 1px rgba(60, 64, 67, 0.15);\n",
              "    fill: var(--button-hover-fill-color);\n",
              "  }\n",
              "\n",
              "  .colab-df-quickchart-complete:disabled,\n",
              "  .colab-df-quickchart-complete:disabled:hover {\n",
              "    background-color: var(--disabled-bg-color);\n",
              "    fill: var(--disabled-fill-color);\n",
              "    box-shadow: none;\n",
              "  }\n",
              "\n",
              "  .colab-df-spinner {\n",
              "    border: 2px solid var(--fill-color);\n",
              "    border-color: transparent;\n",
              "    border-bottom-color: var(--fill-color);\n",
              "    animation:\n",
              "      spin 1s steps(1) infinite;\n",
              "  }\n",
              "\n",
              "  @keyframes spin {\n",
              "    0% {\n",
              "      border-color: transparent;\n",
              "      border-bottom-color: var(--fill-color);\n",
              "      border-left-color: var(--fill-color);\n",
              "    }\n",
              "    20% {\n",
              "      border-color: transparent;\n",
              "      border-left-color: var(--fill-color);\n",
              "      border-top-color: var(--fill-color);\n",
              "    }\n",
              "    30% {\n",
              "      border-color: transparent;\n",
              "      border-left-color: var(--fill-color);\n",
              "      border-top-color: var(--fill-color);\n",
              "      border-right-color: var(--fill-color);\n",
              "    }\n",
              "    40% {\n",
              "      border-color: transparent;\n",
              "      border-right-color: var(--fill-color);\n",
              "      border-top-color: var(--fill-color);\n",
              "    }\n",
              "    60% {\n",
              "      border-color: transparent;\n",
              "      border-right-color: var(--fill-color);\n",
              "    }\n",
              "    80% {\n",
              "      border-color: transparent;\n",
              "      border-right-color: var(--fill-color);\n",
              "      border-bottom-color: var(--fill-color);\n",
              "    }\n",
              "    90% {\n",
              "      border-color: transparent;\n",
              "      border-bottom-color: var(--fill-color);\n",
              "    }\n",
              "  }\n",
              "</style>\n",
              "\n",
              "  <script>\n",
              "    async function quickchart(key) {\n",
              "      const quickchartButtonEl =\n",
              "        document.querySelector('#' + key + ' button');\n",
              "      quickchartButtonEl.disabled = true;  // To prevent multiple clicks.\n",
              "      quickchartButtonEl.classList.add('colab-df-spinner');\n",
              "      try {\n",
              "        const charts = await google.colab.kernel.invokeFunction(\n",
              "            'suggestCharts', [key], {});\n",
              "      } catch (error) {\n",
              "        console.error('Error during call to suggestCharts:', error);\n",
              "      }\n",
              "      quickchartButtonEl.classList.remove('colab-df-spinner');\n",
              "      quickchartButtonEl.classList.add('colab-df-quickchart-complete');\n",
              "    }\n",
              "    (() => {\n",
              "      let quickchartButtonEl =\n",
              "        document.querySelector('#df-7d806f65-bf68-4500-a3b9-ce227290c58e button');\n",
              "      quickchartButtonEl.style.display =\n",
              "        google.colab.kernel.accessAllowed ? 'block' : 'none';\n",
              "    })();\n",
              "  </script>\n",
              "</div>\n",
              "    </div>\n",
              "  </div>\n"
            ]
          },
          "metadata": {},
          "execution_count": 100
        }
      ]
    },
    {
      "cell_type": "code",
      "source": [
        "from sklearn.model_selection import train_test_split\n",
        "y=df.iloc[:,17]\n",
        "\n",
        "Xtrain, Xtest, ytrain, ytest = train_test_split(df.iloc[:,:17], y, test_size=0.2, random_state=42, stratify=y)"
      ],
      "metadata": {
        "id": "E7awAm0k0tIN"
      },
      "execution_count": 335,
      "outputs": []
    },
    {
      "cell_type": "code",
      "source": [
        "print(\"X_train shape:\", Xtrain.shape)\n",
        "print(\"X_test shape:\", Xtest.shape)\n",
        "print(\"y_train shape:\", ytrain.shape)\n",
        "print(\"y_test shape:\", ytest.shape)"
      ],
      "metadata": {
        "colab": {
          "base_uri": "https://localhost:8080/"
        },
        "id": "PJtXNRiI1WdO",
        "outputId": "6eebc1e7-68ff-4faf-c114-027789e689d8"
      },
      "execution_count": 336,
      "outputs": [
        {
          "output_type": "stream",
          "name": "stdout",
          "text": [
            "X_train shape: (11414, 17)\n",
            "X_test shape: (2854, 17)\n",
            "y_train shape: (11414,)\n",
            "y_test shape: (2854,)\n"
          ]
        }
      ]
    },
    {
      "cell_type": "code",
      "source": [],
      "metadata": {
        "id": "UThj9MLM1tG6"
      },
      "execution_count": 336,
      "outputs": []
    },
    {
      "cell_type": "code",
      "source": [
        "# Xtrain=df.iloc[:8000,:17]\n",
        "# ytrain=df.iloc[:8000,17]\n",
        "# Xtest=df.iloc[8000:,:17]\n",
        "# ytest=df.iloc[8000:,17]"
      ],
      "metadata": {
        "id": "UV87fA_45QQa"
      },
      "execution_count": 337,
      "outputs": []
    },
    {
      "cell_type": "code",
      "source": [
        "from sklearn.preprocessing import MinMaxScaler\n",
        "\n",
        "scaler = MinMaxScaler()\n",
        "\n",
        "# Fit the scaler on the training data and transform both training and testing data\n",
        "Xtrain_scaled = scaler.fit_transform(Xtrain)\n",
        "Xtest_scaled = scaler.transform(Xtest)"
      ],
      "metadata": {
        "id": "9gLOVTT15nUH"
      },
      "execution_count": 338,
      "outputs": []
    },
    {
      "cell_type": "code",
      "source": [
        "Xtrain_scaled"
      ],
      "metadata": {
        "colab": {
          "base_uri": "https://localhost:8080/"
        },
        "id": "FN0SdsnB7uLe",
        "outputId": "2cf91a55-61b8-4d48-897a-c0fb04e7d80c"
      },
      "execution_count": 339,
      "outputs": [
        {
          "output_type": "execute_result",
          "data": {
            "text/plain": [
              "array([[0.35916952, 0.31326802, 0.42078913, ..., 0.53670599, 0.45717352,\n",
              "        0.66331931],\n",
              "       [0.24945998, 0.25628104, 0.3283059 , ..., 0.3968639 , 0.47796234,\n",
              "        0.61651364],\n",
              "       [0.27793507, 0.2361477 , 0.77003014, ..., 0.43939362, 0.3104201 ,\n",
              "        0.54573437],\n",
              "       ...,\n",
              "       [0.48013703, 0.30452655, 0.61636011, ..., 0.43232314, 0.3158845 ,\n",
              "        0.48806449],\n",
              "       [0.91061601, 0.76545482, 0.5039804 , ..., 0.67254121, 0.52051156,\n",
              "        0.49263579],\n",
              "       [0.53706906, 0.78850659, 0.30419535, ..., 0.61090598, 0.60953805,\n",
              "        0.31342068]])"
            ]
          },
          "metadata": {},
          "execution_count": 339
        }
      ]
    },
    {
      "cell_type": "code",
      "source": [
        "ytest.values"
      ],
      "metadata": {
        "colab": {
          "base_uri": "https://localhost:8080/"
        },
        "id": "xOtKOnnuyVaZ",
        "outputId": "cdd83bbe-99b3-4c78-afff-1beae305b150"
      },
      "execution_count": 340,
      "outputs": [
        {
          "output_type": "execute_result",
          "data": {
            "text/plain": [
              "array([0, 0, 0, ..., 0, 1, 0])"
            ]
          },
          "metadata": {},
          "execution_count": 340
        }
      ]
    },
    {
      "cell_type": "code",
      "source": [
        "tensorXtrain = torch.tensor(Xtrain_scaled, dtype=torch.float32)\n",
        "tensorXtest = torch.tensor(Xtest_scaled, dtype=torch.float32)\n"
      ],
      "metadata": {
        "id": "JwqqhaEj9Z8y"
      },
      "execution_count": 341,
      "outputs": []
    },
    {
      "cell_type": "code",
      "source": [
        "ytrain2=np.array(ytrain)\n",
        "ytest2=np.array(ytest)\n"
      ],
      "metadata": {
        "id": "QDLuEw9tC9bX"
      },
      "execution_count": 342,
      "outputs": []
    },
    {
      "cell_type": "code",
      "source": [
        "import torch\n",
        "from torch.utils.data import Dataset\n",
        "\n",
        "class CustomDataset(Dataset):\n",
        "    def __init__(self, tensor_data, ytrain):\n",
        "        self.tensor_data = tensor_data\n",
        "        self.ytrain = ytrain\n",
        "\n",
        "    def __len__(self):\n",
        "        return len(self.tensor_data)\n",
        "\n",
        "    def __getitem__(self, index):\n",
        "        data = self.tensor_data[index]\n",
        "        label = self.ytrain[index]\n",
        "\n",
        "        return data, label\n",
        "\n",
        "# Assuming tensor_data and ytrain are your tensor and output values\n",
        "#tensor_data = torch.tensor([[0.3707, 0.4219, 0.4833, 0.2966, 0.3640, 0.3620], [...]])\n",
        "ytrainnew = torch.tensor(ytrain2)  # Replace this with your actual output values\n",
        "\n",
        "# Create an instance of your custom dataset\n",
        "custom_train_dataset = CustomDataset(tensorXtrain, ytrainnew)\n",
        "\n",
        "# Now, you can use custom_dataset in combination with DataLoader for training or testing\n"
      ],
      "metadata": {
        "id": "I3XBXtua_tFJ"
      },
      "execution_count": 343,
      "outputs": []
    },
    {
      "cell_type": "code",
      "source": [
        "import torch\n",
        "from torch.utils.data import Dataset\n",
        "\n",
        "class CustomDataset(Dataset):\n",
        "    def __init__(self, tensor_data, ytrain):\n",
        "        self.tensor_data = tensor_data\n",
        "        self.ytrain = ytrain\n",
        "\n",
        "    def __len__(self):\n",
        "        return len(self.tensor_data)\n",
        "\n",
        "    def __getitem__(self, index):\n",
        "        data = self.tensor_data[index]\n",
        "        label = self.ytrain[index]\n",
        "\n",
        "        return data, label\n",
        "\n",
        "# Assuming tensor_data and ytrain are your tensor and output values\n",
        "#tensor_data = torch.tensor([[0.3707, 0.4219, 0.4833, 0.2966, 0.3640, 0.3620], [...]])\n",
        "ytestnew = torch.tensor(ytest2)  # Replace this with your actual output values\n",
        "\n",
        "# Create an instance of your custom dataset\n",
        "custom_test_dataset = CustomDataset(tensorXtest, ytestnew)\n",
        "\n",
        "# Now, you can use custom_dataset in combination with DataLoader for training or testing\n"
      ],
      "metadata": {
        "id": "5wfXVCEHDzIr"
      },
      "execution_count": 344,
      "outputs": []
    },
    {
      "cell_type": "code",
      "source": [
        "custom_test_dataset[0]"
      ],
      "metadata": {
        "colab": {
          "base_uri": "https://localhost:8080/"
        },
        "id": "JmTu8WClDzMJ",
        "outputId": "4cae383b-7130-46eb-fc53-2873e5dad532"
      },
      "execution_count": 345,
      "outputs": [
        {
          "output_type": "execute_result",
          "data": {
            "text/plain": [
              "(tensor([0.4387, 0.3839, 0.5964, 0.4091, 0.4795, 0.3650, 0.5133, 0.1931, 0.2857,\n",
              "         0.4634, 0.5079, 0.2810, 0.4617, 0.2682, 0.2875, 0.1923, 0.5549]),\n",
              " tensor(0))"
            ]
          },
          "metadata": {},
          "execution_count": 345
        }
      ]
    },
    {
      "cell_type": "code",
      "source": [
        "# # Define a transform\n",
        "# transform = transforms.Compose([\n",
        "#             transforms.Resize((28, 28)),\n",
        "#             transforms.Grayscale(),\n",
        "#             transforms.ToTensor(),\n",
        "#             transforms.Normalize((0,), (1,))])\n",
        "\n",
        "# mnist_train = datasets.MNIST(data_path, train=True, download=True, transform=transform)\n",
        "# mnist_test = datasets.MNIST(data_path, train=False, download=True, transform=transform)"
      ],
      "metadata": {
        "id": "XqbYptgDHUPg"
      },
      "execution_count": 346,
      "outputs": []
    },
    {
      "cell_type": "code",
      "source": [
        "# Create DataLoaders\n",
        "batch_size=64\n",
        "train_loader = DataLoader(custom_train_dataset, batch_size=batch_size, shuffle=True, drop_last=True)\n",
        "test_loader = DataLoader(custom_test_dataset, batch_size=batch_size, shuffle=True, drop_last=True)"
      ],
      "metadata": {
        "id": "jSlS3gWZHXI0"
      },
      "execution_count": 414,
      "outputs": []
    },
    {
      "cell_type": "code",
      "source": [
        "train_loader"
      ],
      "metadata": {
        "colab": {
          "base_uri": "https://localhost:8080/"
        },
        "id": "YsRi3ev_-3-U",
        "outputId": "8e404367-203b-4e8b-d930-6803220c1a05"
      },
      "execution_count": 415,
      "outputs": [
        {
          "output_type": "execute_result",
          "data": {
            "text/plain": [
              "<torch.utils.data.dataloader.DataLoader at 0x7aaa4abe6530>"
            ]
          },
          "metadata": {},
          "execution_count": 415
        }
      ]
    },
    {
      "cell_type": "markdown",
      "source": [
        "## Construct a Fully Connected SNN"
      ],
      "metadata": {
        "id": "SJVhfNukHbsp"
      }
    },
    {
      "cell_type": "code",
      "source": [
        "# Network Architecture\n",
        "num_inputs = 17\n",
        "num_hidden = 30\n",
        "num_outputs = 2\n",
        "\n",
        "# Temporal Dynamics\n",
        "num_steps = 20\n",
        "beta = 0.95"
      ],
      "metadata": {
        "id": "uu324fr_HhxV"
      },
      "execution_count": 416,
      "outputs": []
    },
    {
      "cell_type": "code",
      "source": [
        "# Define Network\n",
        "class Net(nn.Module):\n",
        "    def __init__(self):\n",
        "        super().__init__()\n",
        "\n",
        "        # Initialize layers\n",
        "        self.fc1 = nn.Linear(num_inputs, num_hidden)\n",
        "        self.lif1 = snn.Leaky(beta=beta)\n",
        "        self.fc2 = nn.Linear(num_hidden, num_outputs)\n",
        "        self.lif2 = snn.Leaky(beta=beta)\n",
        "\n",
        "    def forward(self, x):\n",
        "\n",
        "        # Initialize hidden states at t=0\n",
        "        mem1 = self.lif1.init_leaky()\n",
        "        mem2 = self.lif2.init_leaky()\n",
        "\n",
        "        # Record the final layer\n",
        "        spk2_rec = []\n",
        "        mem2_rec = []\n",
        "\n",
        "        for step in range(num_steps):\n",
        "            cur1 = self.fc1(x)\n",
        "            spk1, mem1 = self.lif1(cur1, mem1)\n",
        "            cur2 = self.fc2(spk1)\n",
        "            spk2, mem2 = self.lif2(cur2, mem2)\n",
        "            spk2_rec.append(spk2)\n",
        "            mem2_rec.append(mem2)\n",
        "\n",
        "        return torch.stack(spk2_rec, dim=0), torch.stack(mem2_rec, dim=0)\n",
        "\n",
        "# Load the network onto CUDA if available\n",
        "net = Net().to(device)"
      ],
      "metadata": {
        "id": "CkM1Z1EjHeW8"
      },
      "execution_count": 417,
      "outputs": []
    },
    {
      "cell_type": "markdown",
      "source": [
        "## Training the SNN"
      ],
      "metadata": {
        "id": "p8qBw03rHpn3"
      }
    },
    {
      "cell_type": "code",
      "source": [
        "loss = nn.CrossEntropyLoss()\n",
        "optimizer = torch.optim.Adam(net.parameters(), lr=5e-4)# betas=(0.9, 0.999)\n",
        "\n",
        "num_epochs = 1\n",
        "loss_hist = []\n",
        "test_loss_hist = []\n",
        "counter = 0\n",
        "\n",
        "# Outer training loop\n",
        "for epoch in range(num_epochs):\n",
        "    running_length = 0\n",
        "    running_accuracy = 0\n",
        "    train_batch = iter(train_loader)\n",
        "\n",
        "    # Minibatch training loop\n",
        "    for data, targets in train_batch:\n",
        "        data = data.to(device)\n",
        "        targets = targets.to(device)\n",
        "\n",
        "        # forward pass\n",
        "        net.train()\n",
        "        spk_rec, _ = net(data.flatten(1))\n",
        "\n",
        "        # initialize the loss & sum over time\n",
        "        loss_val = torch.zeros((1), dtype=dtype, device=device)\n",
        "        loss_val += loss(spk_rec.sum(0), targets)\n",
        "\n",
        "        spike_count = spk_rec.sum(0)\n",
        "        _, max_spike = spike_count.max(1)\n",
        "        num_correct = (max_spike == targets).sum()\n",
        "\n",
        "      # total accuracy\n",
        "        running_length += len(targets)\n",
        "        running_accuracy += num_correct\n",
        "\n",
        "        accuracy = (running_accuracy / running_length)\n",
        "\n",
        "        # Gradient calculation + weight update\n",
        "        optimizer.zero_grad()\n",
        "        loss_val.backward()\n",
        "        optimizer.step()\n",
        "\n",
        "        # Store loss history for future plotting\n",
        "        loss_hist.append(loss_val.item())\n",
        "\n",
        "        # Print train/test loss/accuracy\n",
        "        if counter % 10 == 0:\n",
        "            print(f\"Iteration: {counter} \\t Train Loss: {loss_val.item()} \\t Train acc:{accuracy}\")\n",
        "        counter += 1\n",
        "\n",
        "        # if counter == 100:\n",
        "        #     break"
      ],
      "metadata": {
        "id": "1telBMU-HrIg",
        "colab": {
          "base_uri": "https://localhost:8080/"
        },
        "outputId": "4ed9f767-5873-47f1-d1fe-d44bc824e33b"
      },
      "execution_count": 418,
      "outputs": [
        {
          "output_type": "stream",
          "name": "stdout",
          "text": [
            "Iteration: 0 \t Train Loss: 0.6286965012550354 \t Train acc:0.796875\n",
            "Iteration: 10 \t Train Loss: 0.578186571598053 \t Train acc:0.7613636255264282\n",
            "Iteration: 20 \t Train Loss: 0.40941348671913147 \t Train acc:0.757440447807312\n",
            "Iteration: 30 \t Train Loss: 0.37811675667762756 \t Train acc:0.7767137289047241\n",
            "Iteration: 40 \t Train Loss: 0.2575092911720276 \t Train acc:0.8041158318519592\n",
            "Iteration: 50 \t Train Loss: 0.2517554461956024 \t Train acc:0.8321078419685364\n",
            "Iteration: 60 \t Train Loss: 0.1893683224916458 \t Train acc:0.8524590134620667\n",
            "Iteration: 70 \t Train Loss: 0.1500024050474167 \t Train acc:0.8699383735656738\n",
            "Iteration: 80 \t Train Loss: 0.07055790722370148 \t Train acc:0.8836805820465088\n",
            "Iteration: 90 \t Train Loss: 0.09028278291225433 \t Train acc:0.895432710647583\n",
            "Iteration: 100 \t Train Loss: 0.04960007965564728 \t Train acc:0.9050123691558838\n",
            "Iteration: 110 \t Train Loss: 0.05338560789823532 \t Train acc:0.9132882952690125\n",
            "Iteration: 120 \t Train Loss: 0.04217853397130966 \t Train acc:0.9203253984451294\n",
            "Iteration: 130 \t Train Loss: 0.023133914917707443 \t Train acc:0.9262881875038147\n",
            "Iteration: 140 \t Train Loss: 0.025852471590042114 \t Train acc:0.9315159320831299\n",
            "Iteration: 150 \t Train Loss: 0.015538902021944523 \t Train acc:0.9360513091087341\n",
            "Iteration: 160 \t Train Loss: 0.01673952490091324 \t Train acc:0.9400233030319214\n",
            "Iteration: 170 \t Train Loss: 0.015375244431197643 \t Train acc:0.9435306787490845\n"
          ]
        }
      ]
    },
    {
      "cell_type": "code",
      "source": [
        "\"\"\"\n",
        "num_of_time_steps=5\n",
        "tr_loss=0.0970378890633583\n",
        "tr_acc=0.8893457651138306\n",
        "\n",
        "num_of_time_steps=10\n",
        "tr_loss=0.021145569160580635\n",
        "tr_acc=0.9135599136352539\n",
        "\n",
        "num_of_time_steps=15\n",
        "tr_loss=0.015559270977973938\n",
        "tr_acc=0.9367690086364746\n",
        "\n",
        "num_of_time_steps=20\n",
        "tr_loss=0.015375244431197643\n",
        "tr_acc=0.9435306787490845\n",
        "\n",
        "num_of_time_steps=25\n",
        "tr_loss=0.000845050613861531\n",
        "tr_acc=0.9588815569877625\n",
        "\"\"\""
      ],
      "metadata": {
        "colab": {
          "base_uri": "https://localhost:8080/",
          "height": 36
        },
        "id": "tRvqeva3cuym",
        "outputId": "db9b0ef1-4e00-4fb5-9ae4-8f7476700181"
      },
      "execution_count": 359,
      "outputs": [
        {
          "output_type": "execute_result",
          "data": {
            "text/plain": [
              "'\\nnum_of_time_steps=5\\n\\n'"
            ],
            "application/vnd.google.colaboratory.intrinsic+json": {
              "type": "string"
            }
          },
          "metadata": {},
          "execution_count": 359
        }
      ]
    },
    {
      "cell_type": "code",
      "source": [
        "\"\"\"PLOT CODE\n",
        "% Data\n",
        "num_of_time_steps = [5, 10, 15, 20, 25];\n",
        "tr_loss = [0.0970378890633583, 0.021145569160580635, 0.015559270977973938, 0.015375244431197643, 0.000845050613861531];\n",
        "tr_acc = [0.8893457651138306, 0.9135599136352539, 0.9367690086364746, 0.9435306787490845, 0.9588815569877625];\n",
        "\n",
        "% Create a figure\n",
        "figure;\n",
        "\n",
        "% Bar graph for accuracy\n",
        "bar(num_of_time_steps , tr_acc, 0.4, 'FaceColor', [0.2 0.4 0.6], 'DisplayName', 'Accuracy');\n",
        "hold on;\n",
        "\n",
        "% Bar graph for loss\n",
        "bar(num_of_time_steps , tr_loss, 0.4, 'FaceColor', [0.8 0.2 0.2], 'DisplayName', 'Loss');\n",
        "\n",
        "% Labels and title\n",
        "xlabel('Number of Time Steps');\n",
        "ylabel('Training Accuracy / Loss');\n",
        "title('Training Accuracy and Loss vs. Time Steps');\n",
        "legend('show');\n",
        "grid on;\n",
        "\n",
        "% Display values on top of the bars for accuracy\n",
        "text(num_of_time_steps - 0.25, tr_acc, num2str(tr_acc', '%.4f'), ...\n",
        "    'HorizontalAlignment', 'center', 'VerticalAlignment', 'bottom');\n",
        "\n",
        "% Display values on top of the bars for loss\n",
        "text(num_of_time_steps + 0.25, tr_loss, num2str(tr_loss', '%.4f'), ...\n",
        "    'HorizontalAlignment', 'center', 'VerticalAlignment', 'bottom');\n",
        "\n",
        "\"\"\""
      ],
      "metadata": {
        "id": "86Wq5g7ul0es"
      },
      "execution_count": null,
      "outputs": []
    },
    {
      "cell_type": "code",
      "source": [
        "spk_rec.sum(0)"
      ],
      "metadata": {
        "id": "jUUPglQ7JacS"
      },
      "execution_count": null,
      "outputs": []
    },
    {
      "cell_type": "code",
      "source": [
        "targets"
      ],
      "metadata": {
        "colab": {
          "base_uri": "https://localhost:8080/"
        },
        "id": "McIOcdfpUs6G",
        "outputId": "3be8add9-4089-4622-c3c6-4ab06facaa2d"
      },
      "execution_count": 325,
      "outputs": [
        {
          "output_type": "execute_result",
          "data": {
            "text/plain": [
              "tensor([0, 0, 1, 0, 0, 1, 0, 0, 0, 0, 1, 0, 1, 0, 0, 0, 0, 0, 0, 0, 0, 0, 1, 1,\n",
              "        1, 0, 0, 1, 0, 1, 0, 1, 0, 1, 0, 0, 0, 0, 0, 1, 0, 0, 1, 0, 1, 1, 0, 1,\n",
              "        0, 0, 0, 0, 0, 0, 0, 0, 0, 0, 1, 1, 0, 0, 0, 0])"
            ]
          },
          "metadata": {},
          "execution_count": 325
        }
      ]
    },
    {
      "cell_type": "code",
      "source": [
        "def measure_accuracy(model, dataloader):\n",
        "  with torch.no_grad():\n",
        "    model.eval()\n",
        "    running_length = 0\n",
        "    running_accuracy = 0\n",
        "\n",
        "    for data, targets in iter(dataloader):\n",
        "      data = data.to(device)\n",
        "      targets = targets.to(device)\n",
        "\n",
        "      # forward-pass\n",
        "      spk_rec, _ = model(data.flatten(1))\n",
        "      spike_count = spk_rec.sum(0)\n",
        "      _, max_spike = spike_count.max(1)\n",
        "\n",
        "      # correct classes for one batch\n",
        "      num_correct = (max_spike == targets).sum()\n",
        "\n",
        "      # total accuracy\n",
        "      running_length += len(targets)\n",
        "      running_accuracy += num_correct\n",
        "\n",
        "    accuracy = (running_accuracy / running_length)\n",
        "\n",
        "    return accuracy.item()\n"
      ],
      "metadata": {
        "id": "nHsdkuSlIS1E"
      },
      "execution_count": 402,
      "outputs": []
    },
    {
      "cell_type": "code",
      "source": [
        "print(f\"Test set accuracy: {measure_accuracy(net, test_loader)}\")"
      ],
      "metadata": {
        "id": "oJHAltRCKGyx",
        "colab": {
          "base_uri": "https://localhost:8080/"
        },
        "outputId": "f4fe9214-aa4b-4d4c-f936-8b435fab02ad"
      },
      "execution_count": 403,
      "outputs": [
        {
          "output_type": "stream",
          "name": "stdout",
          "text": [
            "Test set accuracy: 0.9946733117103577\n"
          ]
        }
      ]
    },
    {
      "cell_type": "code",
      "source": [
        "\"\"\"\n",
        "Adam- 1\n",
        "SGD-0.6690340638160706\n",
        "RMSprop-0.9992897510528564\n",
        "Adadelta-0.6683238744735718\n",
        "\"\"\""
      ],
      "metadata": {
        "id": "jBgDSekEz9LT"
      },
      "execution_count": null,
      "outputs": []
    },
    {
      "cell_type": "code",
      "source": [
        "\"\"\"ADAM LOSS\n",
        "\n",
        "train_loss = [3.834725856781006, 0.6256722807884216, 0.26808038353919983, 0.03515254333615303, ...\n",
        "    0.004041451495140791, 0.0058415671810507774, 0.001791338319890201, 0.0008950593182817101, ...\n",
        "    0.0008554472588002682, 0.000957612122874707, 0.0006021774024702609, 0.0005593436071649194, ...\n",
        "    0.0003238572971895337, 0.0014399101492017508, 0.00022896277369000018, 0.001105996430851519, ...\n",
        "    0.000604524917434901, 0.000845050613861531];\n",
        "\n",
        "\n",
        "\"\"\""
      ],
      "metadata": {
        "id": "2tZ2jOVFz9Nv"
      },
      "execution_count": null,
      "outputs": []
    },
    {
      "cell_type": "code",
      "source": [
        "\"\"\"\n",
        "\n",
        "% Given data\n",
        "iterations = [0, 10, 20, 30, 40, 50, 60, 70, 80, 90, 100, 110, 120, 130, 140, 150, 160, 170];\n",
        "train_accuracy_Adam = [0.34375, 0.6051136255264282, 0.679315447807312, 0.7762096524238586, ...\n",
        "    0.8304116129875183, 0.8636642098426819, 0.8860143423080444, 0.9016284942626953, ...\n",
        "    0.9137731194496155, 0.9232486486434937, 0.9308477640151978, 0.9370777010917664, ...\n",
        "    0.9422779083251953, 0.9466841816902161, 0.9501329660415649, 0.9534354209899902, ...\n",
        "    0.9563276171684265, 0.9588815569877625];\n",
        "train_accuracy_SGD = [0.78125, 0.6789772510528564, 0.6666666865348816, 0.6688507795333862, ...\n",
        "    0.6669207215309143, 0.673100471496582, 0.6716188788414001, 0.6698943376541138, ...\n",
        "    0.671875, 0.6708447933197021, 0.6703279614448547, 0.6706081032752991, ...\n",
        "    0.6676136255264282, 0.6674618124961853, 0.6644503474235535, 0.6692880988121033, ...\n",
        "    0.6680900454521179, 0.6685855388641357];\n",
        "train_accuracy_RMS = [0.671875, 0.6022727489471436, 0.628720223903656, 0.6411290168762207, ...\n",
        "             0.6345274448394775, 0.6746323704719543, 0.7279713153839111, ...\n",
        "             0.7660651206970215, 0.794946014881134, 0.8174793720245361, ...\n",
        "             0.8355507254600525, 0.8503659963607788, 0.8627324104309082, ...\n",
        "             0.8732109069824219, 0.8822030425071716, 0.8900041580200195, ...\n",
        "             0.8968361616134644, 0.9028691649436951];\n",
        "train_accuracy_adadelta = [0.8125, 0.703125, 0.6770833134651184, 0.6708669066429138, ...\n",
        "    0.6703506112098694, 0.6669730544090271, 0.6649590134620667, 0.6657130122184753, ...\n",
        "    0.6624228358268738, 0.6600274443626404, 0.6629022359848022, 0.6628659963607788, ...\n",
        "    0.6637396812438965, 0.6641221642494202, 0.6652260422706604, 0.6653559803962708, ...\n",
        "    0.6652756333351135, 0.6666666865348816];\n",
        "% Plotting\n",
        "figure;\n",
        "plot(iterations, train_accuracy_Adam, 'LineWidth', 2, 'MarkerSize', 8);\n",
        "plot(iterations, train_accuracy_SGD, 'LineWidth', 2, 'MarkerSize', 8);\n",
        "plot(iterations, train_accuracy_RMS, 'LineWidth', 2, 'MarkerSize', 8);\n",
        "plot(iterations, train_accuracy_adadelta, 'LineWidth', 2, 'MarkerSize', 8);\n",
        "%title('Training Accuracy vs Iteration');\n",
        "xlabel('Iteration');\n",
        "ylabel('Training Accuracy');\n",
        "grid on;\n",
        "\n",
        "\n",
        "\"\"\""
      ],
      "metadata": {
        "id": "_WuurOSlz9QL"
      },
      "execution_count": null,
      "outputs": []
    },
    {
      "cell_type": "code",
      "source": [],
      "metadata": {
        "id": "ROo-urwzz9Sm"
      },
      "execution_count": null,
      "outputs": []
    },
    {
      "cell_type": "code",
      "source": [],
      "metadata": {
        "id": "oNXlYNsVz9VF"
      },
      "execution_count": null,
      "outputs": []
    },
    {
      "cell_type": "code",
      "source": [],
      "metadata": {
        "id": "6vxta5VPz9Xk"
      },
      "execution_count": null,
      "outputs": []
    },
    {
      "cell_type": "code",
      "source": [],
      "metadata": {
        "id": "LMGTXl63z9aJ"
      },
      "execution_count": null,
      "outputs": []
    },
    {
      "cell_type": "code",
      "source": [],
      "metadata": {
        "id": "5X_7KAfZz9ck"
      },
      "execution_count": null,
      "outputs": []
    },
    {
      "cell_type": "code",
      "source": [],
      "metadata": {
        "id": "ypTXHfepz9gD"
      },
      "execution_count": null,
      "outputs": []
    }
  ]
}